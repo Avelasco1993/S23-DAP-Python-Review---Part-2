{
 "cells": [
  {
   "cell_type": "markdown",
   "id": "d50a2161",
   "metadata": {},
   "source": [
    "# Python Review #2\n",
    "\n",
    "Using what you learned in the modules, answer the questions below. Take your time and use all the information in the modules as your guide and resource. This isn't about memorization - this is about practicing skills! Good Luck!"
   ]
  },
  {
   "cell_type": "markdown",
   "id": "e637bcf4",
   "metadata": {},
   "source": [
    "## Module 4 Review"
   ]
  },
  {
   "cell_type": "markdown",
   "id": "98001a9c",
   "metadata": {},
   "source": [
    "#### REMOVING VALUES FROM LIST\n",
    "\n",
    "Lists are changeable, which means you can remove values to a list after you have defined the list initially. \n",
    "\n",
    "The .pop() function will remove a single item from your list. This function allows you to only remove a single value at a time. You have the option to provide the function with the index-position of where the item you want to remove is located. However, if you don't specify a specific index, the function will automatically remove the last item from the list. To use the function, see an example below:\n",
    "\n",
    "    list_name.pop( index_of_item_to_remove )\n",
    "    \n",
    "    colors.pop(3)\n",
    "    \n",
    "The .remove() function will remove a specific item from a list (you provide the item label/value and the function will search and remove that specific item). If an item/value is repeated within your list, this function will only remove the first instance. To use the function, see an example below:\n",
    "\n",
    "    list_name.remove( item_to_remove )\n",
    "    \n",
    "    colors.remove(\"green-3\")\n",
    "    \n",
    "1. Create a list of shapes below. This list should have at least 3 values. Print the list. \n",
    "2. Use the pop function to remove a shape from your list. Print the list.\n",
    "3. Use the remove function to remove a shape to your list. You should remove the shape in index position 2. Print your list.\n",
    "4. Use the pop function to remove the last item in your list. Print the list. "
   ]
  },
  {
   "cell_type": "code",
   "execution_count": 1,
   "id": "11fdc55f",
   "metadata": {},
   "outputs": [
    {
     "name": "stdout",
     "output_type": "stream",
     "text": [
      "['sqaure', 'triangle', 'circle', 'trapezoid', 'rectangle']\n"
     ]
    }
   ],
   "source": [
    "#Create a list of shapes below. This list should have at least 3 values. Print the list.\n",
    "\n",
    "shapes = [\"sqaure\", \"triangle\", \"circle\", \"trapezoid\", \"rectangle\"]\n",
    "\n",
    "print(shapes)"
   ]
  },
  {
   "cell_type": "code",
   "execution_count": 2,
   "id": "87c18909",
   "metadata": {},
   "outputs": [
    {
     "data": {
      "text/plain": [
       "'trapezoid'"
      ]
     },
     "execution_count": 2,
     "metadata": {},
     "output_type": "execute_result"
    }
   ],
   "source": [
    "#Use the pop function to remove a shape from your list. Print the list.\n",
    "\n",
    "shapes.pop(3)"
   ]
  },
  {
   "cell_type": "code",
   "execution_count": 3,
   "id": "c00bd2ea",
   "metadata": {},
   "outputs": [
    {
     "name": "stdout",
     "output_type": "stream",
     "text": [
      "['sqaure', 'triangle', 'rectangle']\n"
     ]
    }
   ],
   "source": [
    "#Use the remove function to remove a shape to your list. \n",
    "#You should remove the shape in index position 2. Print your list.\n",
    "\n",
    "shapes.remove(\"circle\")\n",
    "\n",
    "print(shapes)"
   ]
  },
  {
   "cell_type": "code",
   "execution_count": 5,
   "id": "12851e9a",
   "metadata": {},
   "outputs": [
    {
     "data": {
      "text/plain": [
       "'rectangle'"
      ]
     },
     "execution_count": 5,
     "metadata": {},
     "output_type": "execute_result"
    }
   ],
   "source": [
    "#Use the pop function to remove the last item in your list. Print the list.\n",
    "\n",
    "shapes.pop(2)"
   ]
  },
  {
   "cell_type": "code",
   "execution_count": 6,
   "id": "873eb25b",
   "metadata": {},
   "outputs": [
    {
     "name": "stdout",
     "output_type": "stream",
     "text": [
      "['sqaure', 'triangle']\n"
     ]
    }
   ],
   "source": [
    "print(shapes)"
   ]
  },
  {
   "cell_type": "markdown",
   "id": "e46e6d07",
   "metadata": {},
   "source": [
    "#### SORTING A LIST\n",
    "\n",
    "The .sort() function allows you to re-order a list in ascending or descending order. If the list includes only numbers, this means the numbers will be ordered from least to greatest (or from greatest to least). If the list includes strings/text, the list will be sorted in alphabetical order (or reverse alphabetical order). To use the function, see the example below: \n",
    "\n",
    "        list_name.sort() >> by default, this will sort the list in ascending order\n",
    "        colors.sort()\n",
    "        \n",
    "To change the direction in which items are sorted, you can add an option within the parentheses that sorts the list in the reverse direction (reverse = True). See the example below:\n",
    "        \n",
    "        list_name.sort(reverse = True)\n",
    "        colors.sort(reverse = True)\n",
    "\n",
    "1. Create a list of 4 integers. Print the list. \n",
    "2. Sort the list in ascending order. \n",
    "3. In a new cell, sort the same list in descending order. "
   ]
  },
  {
   "cell_type": "code",
   "execution_count": 17,
   "id": "86fd7b0f",
   "metadata": {},
   "outputs": [
    {
     "name": "stdout",
     "output_type": "stream",
     "text": [
      "[1, 2, 3, 4]\n"
     ]
    }
   ],
   "source": [
    "#Create a list of 4 integers. Print the list. \n",
    "#Sort the list in ascending order.\n",
    "\n",
    "number_list = [1,2,3,4]\n",
    "\n",
    "number_list.sort()\n",
    "\n",
    "print(number_list)"
   ]
  },
  {
   "cell_type": "code",
   "execution_count": 19,
   "id": "0898b7e2",
   "metadata": {},
   "outputs": [
    {
     "name": "stdout",
     "output_type": "stream",
     "text": [
      "[4, 3, 2, 1]\n"
     ]
    }
   ],
   "source": [
    "#In a new cell, sort the same list in descending order.\n",
    "\n",
    "number_list.sort(reverse=True)\n",
    "\n",
    "print(number_list)"
   ]
  },
  {
   "cell_type": "markdown",
   "id": "cca1d63c",
   "metadata": {},
   "source": [
    "#### FOR-LOOPS\n",
    "\n",
    "Python has several types of loops that are used to iterate through a set of information. <b>For Loops</b> are used to apply a function on each item in a specific list. For example, if you want to apply the print() function to each item in a list (aka you want to individually print out each item listed), you can do so with a for loop. The basic structure of a for-loop is as follows:\n",
    "\n",
    "        for item in list_of_items:\n",
    "            statement 1\n",
    "            statement 2\n",
    "            statement 3\n",
    "\n",
    "This can be read as \"For each Item in the list of Items, perform the following tasks...\". The for loop will then take each item in the list - one by one - and apply the specific statements to each item. See below for an example:\n",
    "    \n",
    "    my_list = [\"a\", \"b\", \"c\", \"d\"]\n",
    "    \n",
    "Below I'm going to create a for loop that will iterate through my_list and print each item from the list. In the for loop, the \"i\" stands for item.\n",
    "\n",
    "    for i in my_list:\n",
    "        print (i)\n",
    "The output for the for-loop with be as follows:\n",
    "\n",
    "    a\n",
    "    b\n",
    "    c\n",
    "    d\n",
    "\n",
    "Complete the code below to create a series of for-loops. "
   ]
  },
  {
   "cell_type": "code",
   "execution_count": 21,
   "id": "703dbe84",
   "metadata": {},
   "outputs": [
    {
     "name": "stdout",
     "output_type": "stream",
     "text": [
      "red\n",
      "orange\n",
      "purple\n",
      "white\n",
      "green\n"
     ]
    }
   ],
   "source": [
    "colors = [\"red\", \"orange\", \"purple\", \"white\", \"green\"]\n",
    "\n",
    "## using the list above, create a for-loop that prints each color from the list\n",
    "\n",
    "for _ in colors:\n",
    "    print(_)\n"
   ]
  },
  {
   "cell_type": "code",
   "execution_count": 25,
   "id": "a554fe60",
   "metadata": {},
   "outputs": [
    {
     "name": "stdout",
     "output_type": "stream",
     "text": [
      "soda\n",
      "4\n",
      "coffee\n",
      "6\n",
      "tea\n",
      "3\n",
      "milk\n",
      "4\n",
      "water\n",
      "5\n"
     ]
    }
   ],
   "source": [
    "drinks = [\"soda\", \"coffee\", \"tea\", \"milk\", \"water\"]\n",
    "\n",
    "## using the list above, create a for-loop that prints the name of each color and the length of each string \n",
    "# how many characters are in the name of the drinks?\n",
    "\n",
    "for _ in drinks:\n",
    "    print(_)\n",
    "    print(len(_))"
   ]
  },
  {
   "cell_type": "code",
   "execution_count": 28,
   "id": "92720938",
   "metadata": {},
   "outputs": [
    {
     "name": "stdout",
     "output_type": "stream",
     "text": [
      "my favorite drink is. . .\n",
      "soda\n",
      "my favorite drink is. . .\n",
      "coffee\n",
      "my favorite drink is. . .\n",
      "tea\n",
      "my favorite drink is. . .\n",
      "milk\n",
      "my favorite drink is. . .\n",
      "water\n"
     ]
    }
   ],
   "source": [
    "drinks = [\"soda\", \"coffee\", \"tea\", \"milk\", \"water\"]\n",
    "\n",
    "## using the same drinks list, create a for-loop that prints the sentence \"My favorite drink is ..\" and then fill in the name of each color\n",
    "\n",
    "for _ in drinks:\n",
    "    print(\"my favorite drink is. . .\")\n",
    "    print(_)"
   ]
  },
  {
   "cell_type": "code",
   "execution_count": 30,
   "id": "4bb84e9a",
   "metadata": {},
   "outputs": [
    {
     "name": "stdout",
     "output_type": "stream",
     "text": [
      "15\n",
      "25\n",
      "35\n",
      "45\n",
      "55\n"
     ]
    }
   ],
   "source": [
    "numbers = [10, 20, 30, 40, 50]\n",
    "\n",
    "## using the list above, create a for-loop that adds 5 to each value in the list and then prints the value \n",
    "\n",
    "for _ in numbers:\n",
    "    print(_ + 5)"
   ]
  },
  {
   "cell_type": "markdown",
   "id": "4d3cda51",
   "metadata": {},
   "source": [
    "#### RANGE FUNCTION \n",
    "\n",
    "The range function creates a sequence of numbers starting from a given integer and stopping before a given integer (inclusive -> exclusive). The range function can be useful when incorporated into loops. The range function defaults to a 0 starting value but this can be altered, for example:\n",
    "\n",
    "        range(0, 10) returns the values 0 through 9\n",
    "        range(0, 11) returns the values 0 through 10\n",
    "        range(2, 7) returns the values 2 through 6\n",
    "        range(-1, 10) returns the values -1 through 9\n",
    "        \n",
    "To use the range function, you can include it in a for-loop. The for-loop will iterate through the list of numbers and print them out one by one. Below I'm going to create a for loop that will iterate through a sequence of numbers and print each number. In the for loop, the \"i\" stands for integer.\n",
    "\n",
    "    for i in range(0, 6):\n",
    "        print (i)\n",
    "        \n",
    "This can be read as \"For each integer in the range 0 through 10, print the integer\". The output for the for-loop with be as follows:\n",
    "\n",
    "    1\n",
    "    2\n",
    "    3\n",
    "    4\n",
    "    5\n",
    "\n",
    "Complete the code below to create a series of for-loops using the range function. "
   ]
  },
  {
   "cell_type": "code",
   "execution_count": 31,
   "id": "34d7bdaf",
   "metadata": {},
   "outputs": [
    {
     "name": "stdout",
     "output_type": "stream",
     "text": [
      "0\n",
      "1\n",
      "2\n",
      "3\n"
     ]
    }
   ],
   "source": [
    "## complete the code to print a list of integers ranging from 0 to 3.\n",
    "\n",
    "for i in range(0,4):\n",
    "    print(i)"
   ]
  },
  {
   "cell_type": "code",
   "execution_count": 38,
   "id": "91aae893",
   "metadata": {},
   "outputs": [
    {
     "name": "stdout",
     "output_type": "stream",
     "text": [
      "-1\n",
      "0\n",
      "1\n",
      "2\n",
      "3\n",
      "4\n",
      "5\n",
      "6\n",
      "7\n",
      "8\n",
      "9\n"
     ]
    }
   ],
   "source": [
    "## complete the code to print a list of integers ranging from -1 to 9.\n",
    "\n",
    "for i in range(-1,10):\n",
    "    print(i)"
   ]
  },
  {
   "cell_type": "code",
   "execution_count": 43,
   "id": "35108002",
   "metadata": {},
   "outputs": [
    {
     "name": "stdout",
     "output_type": "stream",
     "text": [
      "5\n",
      "6\n",
      "7\n",
      "8\n",
      "9\n",
      "10\n"
     ]
    }
   ],
   "source": [
    "## complete the code to add 5 to a series of integers ranging from 0 to 5.\n",
    "\n",
    "for i in range(0,6):\n",
    "    i = i + 5\n",
    "    print(i)"
   ]
  },
  {
   "cell_type": "code",
   "execution_count": 45,
   "id": "0cc56b0e",
   "metadata": {},
   "outputs": [
    {
     "name": "stdout",
     "output_type": "stream",
     "text": [
      "0\n",
      "10\n",
      "20\n",
      "30\n",
      "40\n",
      "50\n",
      "60\n",
      "70\n",
      "80\n"
     ]
    }
   ],
   "source": [
    "## complete the code to multiply a series of integers ranging from 1 to 8 by 10. \n",
    "\n",
    "for i in range(0,9):\n",
    "    i = i * 10\n",
    "    print(i)"
   ]
  },
  {
   "cell_type": "markdown",
   "id": "8e975a93",
   "metadata": {},
   "source": [
    "#### WHILE LOOPS\n",
    "\n",
    "The while loop is another type of Python loop. With the while loop, we can execute a set of statements as long as a condition is true. That condition is listed at the top of the statement and underneath the statement is where you will list all the items you want executed while that statement is true. For example:\n",
    "\n",
    "    i = 1\n",
    "    \n",
    "    while i < 6:\n",
    "        print(i)\n",
    "\n",
    "The above while loop will print the value of \"i\" for as long as \"i\" is less than 6. This is because the condition that is being checked for truth is \"i < 6\". If this is true, the loop continues (indefinitely) - but as soon as this statement is no longer true, the loop will stop. The above loop is an infinity loop and will never stop running. This is because the value of \"i\" is always going to be 1 - which is always going to be less than 6, which means the conditional statement will never be untrue. We can modify our code so that this is not an infinity loop by adding a statement that adds \"1\" to the value of \"i\" after each successful loop. \n",
    "\n",
    "    i = 1\n",
    "    \n",
    "    while i < 6:\n",
    "        print(i)\n",
    "        i = i + 1\n",
    "        \n",
    "The loop will flow in the following way:\n",
    "\n",
    "1. Check the conditional statement for truth (is i less than 6?); if yes, continue to the first statement underneath; if no, end the loop. \n",
    "2. The starting value of \"i\" is 1, therefore, the conditional statement is true. We can continue with the first statement listed underneath the conditional statement. \n",
    "3. We print the value of \"i\" because that is the first item listed underneath the conditional statement. On the first iteration of the loop, this means we are printing the value \"1\". \n",
    "4. We continue executing the statements underneath the conditional statement in the order they are listed. The next statement is i = i + 1 (this can also be written as i += 1); this means we are going to take whatever the value of \"i\" is and add 1 to it. Then we are going to save that result as the new value of \"i\". This is going to happen at the end of each successful loop. At the end of the first loop, \"i\" will have a value of \"2\". \n",
    "5. We've reached the end of our listed statements under the conditional statement, now it is time to go back to the top of the list and try everything again for iteration #2. \n",
    "6. Start again at the conditional statement - at the beginning of each iteration, the conditional statement is re-checked for truth. If it is still true, we cycle through the listed statements again (print the value of \"i\" and add 1 to the current value of \"i\"). \n",
    "7. This cycle will continue until the conditional statement is no longer true; therefore, in this example, this cycle will continue until \"i\" is greater than \n",
    "\n",
    "\n",
    "Complete the code below to execute a series of while loops. "
   ]
  },
  {
   "cell_type": "code",
   "execution_count": 32,
   "id": "1d42d6be",
   "metadata": {},
   "outputs": [
    {
     "name": "stdout",
     "output_type": "stream",
     "text": [
      "1\n",
      "2\n",
      "3\n"
     ]
    }
   ],
   "source": [
    "## complete the code below to prevent the while loop from becoming an infinity loop\n",
    "## add a line of code to stop the loop after 3 iterations\n",
    "i = 0\n",
    "while i < 3:\n",
    "    i += 1\n",
    "    print(i)"
   ]
  },
  {
   "cell_type": "code",
   "execution_count": 33,
   "id": "626e0f8d",
   "metadata": {},
   "outputs": [
    {
     "name": "stdout",
     "output_type": "stream",
     "text": [
      "181 degrees is too hot to drink your tea, let it cool.\n",
      "175 degrees is too hot to drink your tea, let it cool.\n",
      "169 degrees is too hot to drink your tea, let it cool.\n",
      "163 degrees is too hot to drink your tea, let it cool.\n",
      "157 degrees is too hot to drink your tea, let it cool.\n",
      "151 degrees is too hot to drink your tea, let it cool.\n",
      "145 degrees is too hot to drink your tea, let it cool.\n",
      "139 degrees is too hot to drink your tea, let it cool.\n",
      "Your tea is 133 and cool enough to drink. Enjoy!\n"
     ]
    }
   ],
   "source": [
    "## each minute you let your tea sit, it cools down 6 degrees. \n",
    "## how many minutes pass before you can drink your tea?\n",
    "## run the while-loop below and count the number of loops it made.\n",
    "\n",
    "temp = 181\n",
    "\n",
    "while temp > 135:\n",
    "    print(f\"{temp} degrees is too hot to drink your tea, let it cool.\")\n",
    "    temp = temp - 6\n",
    "    \n",
    "print(f\"Your tea is {temp} and cool enough to drink. Enjoy!\")"
   ]
  },
  {
   "cell_type": "code",
   "execution_count": 44,
   "id": "447c6557",
   "metadata": {},
   "outputs": [
    {
     "name": "stdout",
     "output_type": "stream",
     "text": [
      "1\n",
      "2\n",
      "3\n",
      "4\n",
      "5\n",
      "6\n",
      "7\n",
      "8\n",
      "9\n",
      "10\n"
     ]
    }
   ],
   "source": [
    "## create a while loop that returns numbers 1 through 10\n",
    "## once you get to 10, the loop should naturally end\n",
    "\n",
    "i = 0\n",
    "\n",
    "while i < 10:\n",
    "    i += 1\n",
    "    print(i)\n"
   ]
  },
  {
   "cell_type": "markdown",
   "id": "aacf4f3e",
   "metadata": {},
   "source": [
    "## Module 5 Review"
   ]
  },
  {
   "cell_type": "markdown",
   "id": "f2d82ce3",
   "metadata": {},
   "source": [
    "#### DICTIONARIES\n",
    "\n",
    "A dictionary is another Python data type that holds a collection of items within one variable name. Unlike a list or tuples, dictionaries don't hold single values - they hold paired values. Each pair is called an <b>item</b>, and each item contains a <b>key</b> and a <b>value</b>. The key is separated by a value with a \" : \" and each item within the dictionary is separated by a comma. The entire dictionary is contained within curly brackets ( {} ). See below for an example:\n",
    "\n",
    "    my_dictionary = {key_1 : value_1, key_2 : value_2, key_3 : value_3...}\n",
    "\n",
    "A dictionary is ordered (it can be indexed), changeable (you can add, remove, and manipulate the items within), and it does not allow for duplicate keys. \n",
    "\n",
    "1. Create a dictionary called \"roommates\". This dictionary will include only two items - the name and age of each person living in a house. The name is the KEY and the age is the VALUE. Print the dictionary. Use the following information to construct the dictionary:\n",
    "    * Sarah is 19 years old\n",
    "    * Margaret is 23 years old"
   ]
  },
  {
   "cell_type": "code",
   "execution_count": 60,
   "id": "3315ca4c",
   "metadata": {},
   "outputs": [
    {
     "name": "stdout",
     "output_type": "stream",
     "text": [
      "{'Sarah': 19, 'Margaret': 23}\n"
     ]
    }
   ],
   "source": [
    "roomates = {\"Sarah\" : 19,\n",
    "            \"Margaret\" : 23}\n",
    "print(roomates)"
   ]
  },
  {
   "cell_type": "code",
   "execution_count": 61,
   "id": "22f05d48",
   "metadata": {},
   "outputs": [
    {
     "name": "stdout",
     "output_type": "stream",
     "text": [
      "{'Sarah': 19, 'Margaret': 23, 'Judy': '24'}\n"
     ]
    }
   ],
   "source": [
    "roomates[\"Judy\"] = \"24\"\n",
    "print(roomates)"
   ]
  },
  {
   "cell_type": "markdown",
   "id": "1dbc220c",
   "metadata": {},
   "source": [
    "#### ACCESSING A DICTIONARY P1\n",
    "\n",
    "Identifying the items that are stored within your dictionary allows you to understand what the dictionary includes. Use the .get() function to retrieve a value from your dictionary. The .get() function requires you to input a dictionary KEY and it will return the value associated with that specific KEY. To use the function, follow the example below:\n",
    "\n",
    "    my_dictionary = [key1 : value1, key2 : value2]\n",
    "    \n",
    "To get the value of \"value2\" we can use the .get() function in the following way:\n",
    "    \n",
    "    my_dictionary.get(\"key2\")\n",
    "    \n",
    "The function will search for the specific key and return whichever value is associated with that key. \n",
    "\n",
    "Complete the code below to retrieve specific values from a dictionary that contains the first and last names of famous people throughout history. In this example, the keys are the first names and the values are the last names. "
   ]
  },
  {
   "cell_type": "code",
   "execution_count": 63,
   "id": "d20f62c2",
   "metadata": {},
   "outputs": [
    {
     "name": "stdout",
     "output_type": "stream",
     "text": [
      "{'Marilyn': 'Monroe', 'Ab': 'Lincoln', 'Nelson': 'Mandela', 'Bill': 'Gates', 'Charles': 'Darwin', 'Rosa': 'Parks', 'John': 'Lennon', 'Pablo': 'Picasso'}\n"
     ]
    }
   ],
   "source": [
    "## run this cell to define the dictionary\n",
    "\n",
    "famous = {\"Marilyn\":\"Monroe\", \"Ab\":\"Lincoln\", \"Nelson\":\"Mandela\", \"Bill\":\"Gates\", \"Charles\":\"Darwin\", \"Rosa\":\"Parks\", \"John\":\"Lennon\", \"Pablo\":\"Picasso\"}\n",
    "\n",
    "print(famous)"
   ]
  },
  {
   "cell_type": "code",
   "execution_count": 65,
   "id": "e62fa3d5",
   "metadata": {},
   "outputs": [
    {
     "data": {
      "text/plain": [
       "'Mandela'"
      ]
     },
     "execution_count": 65,
     "metadata": {},
     "output_type": "execute_result"
    }
   ],
   "source": [
    "## get the last name of the person called \"Nelson\"\n",
    "\n",
    "famous.get(\"Nelson\")"
   ]
  },
  {
   "cell_type": "code",
   "execution_count": 66,
   "id": "8b5e6bb9",
   "metadata": {},
   "outputs": [
    {
     "data": {
      "text/plain": [
       "'Parks'"
      ]
     },
     "execution_count": 66,
     "metadata": {},
     "output_type": "execute_result"
    }
   ],
   "source": [
    "## get the last name of the person called \"Rosa\"\n",
    "\n",
    "famous.get(\"Rosa\")"
   ]
  },
  {
   "cell_type": "code",
   "execution_count": 67,
   "id": "a0d01731",
   "metadata": {},
   "outputs": [
    {
     "data": {
      "text/plain": [
       "'Lennon'"
      ]
     },
     "execution_count": 67,
     "metadata": {},
     "output_type": "execute_result"
    }
   ],
   "source": [
    "## get the last name of the person called \"John\"\n",
    "\n",
    "famous.get(\"John\")"
   ]
  },
  {
   "cell_type": "markdown",
   "id": "40b7e9fc",
   "metadata": {},
   "source": [
    "#### ACCESSING A DICTIONARY P2\n",
    "\n",
    "Identifying the items that are stored within your dictionary allows you to understand what the dictionary includes. Use the .keys() function to return a list of all the keys in your dictionary. To use the function, look at the example below:\n",
    "\n",
    "    my_dictionary = [key1 : value1, key2 : value2]\n",
    "\n",
    "To get a list of all the keys stored in the dictionary, use the following code:\n",
    "\n",
    "    my_dictionary.keys()\n",
    "    \n",
    "The output for this code will be:\n",
    "\n",
    "    key1\n",
    "    key2\n",
    "    \n",
    "Complete the code below to retrieve all the keys associated with the dictionary of famous people. "
   ]
  },
  {
   "cell_type": "code",
   "execution_count": 1,
   "id": "587c0e1a",
   "metadata": {},
   "outputs": [],
   "source": [
    "## run this cell to define the dictionary\n",
    "\n",
    "famous = {\"Marilyn\":\"Monroe\", \"Ab\":\"Lincoln\", \"Nelson\":\"Mandela\", \"Bill\":\"Gates\", \"Charles\":\"Darwin\", \"Rosa\":\"Parks\", \"John\":\"Lennon\", \"Pablo\":\"Picasso\"}"
   ]
  },
  {
   "cell_type": "code",
   "execution_count": 2,
   "id": "55b7ce3b",
   "metadata": {},
   "outputs": [
    {
     "data": {
      "text/plain": [
       "dict_keys(['Marilyn', 'Ab', 'Nelson', 'Bill', 'Charles', 'Rosa', 'John', 'Pablo'])"
      ]
     },
     "execution_count": 2,
     "metadata": {},
     "output_type": "execute_result"
    }
   ],
   "source": [
    "## write the code to retrive all the keys associated with this dictionary\n",
    "\n",
    "famous.keys()"
   ]
  },
  {
   "cell_type": "markdown",
   "id": "4913c57c",
   "metadata": {},
   "source": [
    "#### ACCESSING A DICTIONARY P3\n",
    "\n",
    "Identifying the items that are stored within your dictionary allows you to understand what the dictionary includes. Use the .values() function to return a list of all the values in your dictionary. To use the function, look at the example below:\n",
    "\n",
    "    my_dictionary = [key1 : value1, key2 : value2]\n",
    "\n",
    "To get a list of all the values stored in the dictionary, use the following code:\n",
    "\n",
    "    my_dictionary.values()\n",
    "    \n",
    "The output for this code will be:\n",
    "\n",
    "    value1\n",
    "    value2\n",
    "    \n",
    "Complete the code below to retrieve all the values associated with the dictionary of famous people. "
   ]
  },
  {
   "cell_type": "code",
   "execution_count": 4,
   "id": "b06940de",
   "metadata": {},
   "outputs": [],
   "source": [
    "## run this cell to define the dictionary\n",
    "\n",
    "famous = {\"Marilyn\":\"Monroe\", \"Ab\":\"Lincoln\", \"Nelson\":\"Mandela\", \"Bill\":\"Gates\", \"Charles\":\"Darwin\", \"Rosa\":\"Parks\", \"John\":\"Lennon\", \"Pablo\":\"Picasso\"}"
   ]
  },
  {
   "cell_type": "code",
   "execution_count": 5,
   "id": "d169aae4",
   "metadata": {},
   "outputs": [
    {
     "data": {
      "text/plain": [
       "dict_values(['Monroe', 'Lincoln', 'Mandela', 'Gates', 'Darwin', 'Parks', 'Lennon', 'Picasso'])"
      ]
     },
     "execution_count": 5,
     "metadata": {},
     "output_type": "execute_result"
    }
   ],
   "source": [
    "## write the code to retrive all the values associated with this dictionary\n",
    "\n",
    "famous.values()"
   ]
  },
  {
   "cell_type": "markdown",
   "id": "59bbe783",
   "metadata": {},
   "source": [
    "#### CHANGING DICTIONARY ITEMS\n",
    "\n",
    "Dictionaries are changeable -- meaning you can add, remove, and modify items stored within the dictionary. To modify or edit items within your dictionary, you can use the .update() function. You can use this function to update a value given a specific key. To use the function, see the example below:\n",
    "\n",
    "    my_dictionary = [key1 : value1, key2 : value2]\n",
    "    \n",
    "I want to update the second item to \"value_2\". See below for the code to do this:\n",
    "\n",
    "    my_dictionary.update({\"key_name\" : \"new_value\"})\n",
    "    \n",
    "Within the parentheses of the update() function, you will add a mini dictionary of the items you want to update. This includes adding the curly brackets around the items you want to modify. For example:\n",
    "\n",
    "    my_dictionary.update({\"key2\" : \"value_2\"})\n",
    "    \n",
    "This will change my dictionary from the original to this:\n",
    "\n",
    "    my_dictionary = [key1 : value1, key2 : value_2]\n",
    "    \n",
    "1. Using the dictionary 'famous' shown above, update the last name of Marilyn Monroe to \"Mortenson\". The key should stay the same, you are just updating the value. "
   ]
  },
  {
   "cell_type": "code",
   "execution_count": 6,
   "id": "7e66c8d2",
   "metadata": {},
   "outputs": [
    {
     "name": "stdout",
     "output_type": "stream",
     "text": [
      "{'Marilyn': 'Monroe', 'Ab': 'Lincoln', 'Nelson': 'Mandela', 'Bill': 'Gates', 'Charles': 'Darwin', 'Rosa': 'Parks', 'John': 'Lennon', 'Pablo': 'Picasso'}\n"
     ]
    }
   ],
   "source": [
    "print(famous)"
   ]
  },
  {
   "cell_type": "code",
   "execution_count": 7,
   "id": "86b2610d",
   "metadata": {},
   "outputs": [
    {
     "name": "stdout",
     "output_type": "stream",
     "text": [
      "{'Marilyn': 'Mortenson', 'Ab': 'Lincoln', 'Nelson': 'Mandela', 'Bill': 'Gates', 'Charles': 'Darwin', 'Rosa': 'Parks', 'John': 'Lennon', 'Pablo': 'Picasso'}\n"
     ]
    }
   ],
   "source": [
    "famous.update({\"Marilyn\" : \"Mortenson\"})\n",
    "\n",
    "print(famous)"
   ]
  },
  {
   "cell_type": "markdown",
   "id": "50127f01",
   "metadata": {},
   "source": [
    "#### ADDING ITEMS TO DICTIONARY \n",
    "\n",
    "You can use the .update() function to add new items to a dictionary. To do this, follow the same steps as above but when you create your 'mini dictionary', you can insert 1 or multiple new entries. \n",
    "\n",
    "    my_dictionary = [key1 : value1, key2 : value2]\n",
    "\n",
    "I want to add two additional items to the end of my dictionary.\n",
    "\n",
    "    my_dictionary.update({\"key3\" : \"value3\", \"key4\" : \"value4\"})\n",
    "    \n",
    "If I run the above code, my dictionary will change from the original to the following:\n",
    "\n",
    "    my_dictionary = [key1 : value1, key2 : value2, key3 : value3, key4 : value4]\n",
    "    \n",
    "Using the famous dictionary shown above, add two additional famous people to the end of the list using the update() function. "
   ]
  },
  {
   "cell_type": "code",
   "execution_count": 8,
   "id": "c353136d",
   "metadata": {},
   "outputs": [
    {
     "name": "stdout",
     "output_type": "stream",
     "text": [
      "{'Marilyn': 'Mortenson', 'Ab': 'Lincoln', 'Nelson': 'Mandela', 'Bill': 'Gates', 'Charles': 'Darwin', 'Rosa': 'Parks', 'John': 'Lennon', 'Pablo': 'Picasso'}\n"
     ]
    }
   ],
   "source": [
    "print(famous)"
   ]
  },
  {
   "cell_type": "code",
   "execution_count": 11,
   "id": "f0046a81",
   "metadata": {},
   "outputs": [
    {
     "name": "stdout",
     "output_type": "stream",
     "text": [
      "{'Marilyn': 'Mortenson', 'Ab': 'Lincoln', 'Nelson': 'Mandela', 'Bill': 'Gates', 'Charles': 'Darwin', 'Rosa': 'Parks', 'John': 'Wick', 'Pablo': 'Picasso', 'key9': 'value9', 'key10': 'value10', 'Keanu': 'Reeves'}\n"
     ]
    }
   ],
   "source": [
    "famous.update({\"John\" : \"Wick\" , \"Keanu\" : \"Reeves\"})\n",
    "\n",
    "print(famous)"
   ]
  },
  {
   "cell_type": "markdown",
   "id": "639e67f1",
   "metadata": {},
   "source": [
    "#### REMOVING ITEMS FROM DICTIONARY\n",
    "\n",
    "You can use several functions to remove items from your dictionary. The most important functions to remember are:\n",
    "    \n",
    "<b> .pop() function removes a specific item given a specific key </b>\n",
    "    \n",
    "    my_dictionary = [key1 : value1, key2 : value2]\n",
    "    \n",
    "    my_dictionary.pop(\"key1\") >> this will remove the key-value pair with key \"key1\"\n",
    "    \n",
    "<b> .popitem() function removes the last item listed in the dictionary </b>\n",
    "\n",
    "    my_dictionary = [key1 : value1, key2 : value2]\n",
    "    \n",
    "    my_dictionary.popitem() >> this will remove the last item in the dictionary\n",
    "    \n",
    "<b> .clear() function removes all items from a dictionary </b>\n",
    "\n",
    "    my_dictionary = [key1 : value1, key2 : value2]\n",
    "    \n",
    "    my_dictionary.clear() >> this will remove all items from the dictionary\n",
    "    \n",
    "Using the famous dictionary below, answer the following questions:\n",
    "1. Remove \"Bill Gates\" from the dictionary. Print the dictionary. \n",
    "2. Remove \"John Lennon\" from the dictionary. Print the dictionary. \n",
    "3. Remove the last item from the dictionary. Print the dictionary. "
   ]
  },
  {
   "cell_type": "code",
   "execution_count": 22,
   "id": "533ab09f",
   "metadata": {},
   "outputs": [
    {
     "name": "stdout",
     "output_type": "stream",
     "text": [
      "{'Marilyn': 'Monroe', 'Ab': 'Lincoln', 'Nelson': 'Mandela', 'Bill': 'Gates', 'Charles': 'Darwin', 'Rosa': 'Parks', 'John': 'Lennon', 'Pablo': 'Picasso'}\n"
     ]
    }
   ],
   "source": [
    "## run this cell to define the dictionary\n",
    "\n",
    "famous = {\"Marilyn\":\"Monroe\", \"Ab\":\"Lincoln\", \"Nelson\":\"Mandela\", \"Bill\":\"Gates\", \"Charles\":\"Darwin\", \"Rosa\":\"Parks\", \"John\":\"Lennon\", \"Pablo\":\"Picasso\"}\n",
    "\n",
    "print(famous)"
   ]
  },
  {
   "cell_type": "code",
   "execution_count": 32,
   "id": "f2bc1fc8",
   "metadata": {},
   "outputs": [
    {
     "name": "stdout",
     "output_type": "stream",
     "text": [
      "{'Marilyn': 'Monroe', 'Ab': 'Lincoln', 'Nelson': 'Mandela', 'Charles': 'Darwin', 'Rosa': 'Parks'}\n"
     ]
    }
   ],
   "source": [
    "#Remove \"Bill Gates\" from the dictionary. Print the dictionary.\n",
    "\n",
    "famous.pop(\"Bill\" , \"Gates\")\n",
    "            \n",
    "print(famous)"
   ]
  },
  {
   "cell_type": "code",
   "execution_count": 33,
   "id": "be79d430",
   "metadata": {},
   "outputs": [
    {
     "name": "stdout",
     "output_type": "stream",
     "text": [
      "{'Marilyn': 'Monroe', 'Ab': 'Lincoln', 'Nelson': 'Mandela', 'Charles': 'Darwin', 'Rosa': 'Parks'}\n"
     ]
    }
   ],
   "source": [
    "#Remove \"John Lennon\" from the dictionary. Print the dictionary.\n",
    "\n",
    "famous.pop(\"John\" , \"Lennon\")\n",
    "\n",
    "print(famous)"
   ]
  },
  {
   "cell_type": "code",
   "execution_count": 34,
   "id": "7864cdd6",
   "metadata": {},
   "outputs": [
    {
     "data": {
      "text/plain": [
       "('Rosa', 'Parks')"
      ]
     },
     "execution_count": 34,
     "metadata": {},
     "output_type": "execute_result"
    }
   ],
   "source": [
    "#Remove the last item from the dictionary. Print the dictionary.\n",
    "\n",
    "famous.popitem()\n",
    "\n",
    "#Deletes the last item on the list"
   ]
  },
  {
   "cell_type": "code",
   "execution_count": 35,
   "id": "0d0790b5",
   "metadata": {},
   "outputs": [
    {
     "name": "stdout",
     "output_type": "stream",
     "text": [
      "{'Marilyn': 'Monroe', 'Ab': 'Lincoln', 'Nelson': 'Mandela', 'Charles': 'Darwin'}\n"
     ]
    }
   ],
   "source": [
    "print(famous)"
   ]
  },
  {
   "cell_type": "markdown",
   "id": "0167bf69",
   "metadata": {},
   "source": [
    "# Advanced Review Exercise #1\n",
    "\n",
    "Create a Mad Libs using Python. Find a Mad Libs template online (this will look like a story that is missing several key words). Use that template to design a program that asks a user for input on all of the missing values within the Mad Libs. Then, once you have all the needed input -- print the Mad Libs using a formatted string. "
   ]
  },
  {
   "cell_type": "code",
   "execution_count": 5,
   "id": "c2ac7e59",
   "metadata": {
    "scrolled": true
   },
   "outputs": [
    {
     "name": "stdout",
     "output_type": "stream",
     "text": [
      "Enter a noun: CAT\n",
      "Enter an adjective: SAW\n",
      "Enter a verb: SLEPT\n",
      "Enter an adverb: ATE\n",
      "Enter a place: HOUSE\n",
      "Enter a food: TREATS\n",
      "Once upon a time, \n",
      " there was a __CAT__ named __SAW__. \n",
      " __CAT__ lived in a __HOUSE__. \n",
      " __CAT__ was very __SAW__. \n",
      " __CAT__ loved to __SLEPT__. \n",
      " One day, __CAT__ went to the __HOUSE__ to __SLEPT__. \n",
      " __CAT__ saw a __TREATS__. \n",
      " __CAT__ was very __SAW__. \n",
      " __CAT__ ate the __TREATS__. \n",
      " __CAT__ was very happy.\n"
     ]
    }
   ],
   "source": [
    "def mad_libs(story):\n",
    "    # Get the words from the user.\n",
    "    noun = input(\"Enter a noun: \")\n",
    "    adjective = input(\"Enter an adjective: \")\n",
    "    verb = input(\"Enter a verb: \")\n",
    "    adverb = input(\"Enter an adverb: \")\n",
    "    place = input(\"Enter a place: \")\n",
    "    food = input(\"Enter a food: \")\n",
    "\n",
    "    # Replace the placeholders in the story with the words from the user.\n",
    "    story = story.replace(\"NOUN\", noun)\n",
    "    story = story.replace(\"ADJECTIVE\", adjective)\n",
    "    story = story.replace(\"VERB\", verb)\n",
    "    story = story.replace(\"ADVERB\", adverb)\n",
    "    story = story.replace(\"PLACE\", place)\n",
    "    story = story.replace(\"FOOD\", food)\n",
    "\n",
    "    # Print the story.\n",
    "    print(story)\n",
    "\n",
    "mad_libs(\"Once upon a time, \\n there was a __NOUN__ named __ADJECTIVE__. \\n __NOUN__ lived in a __PLACE__. \\n __NOUN__ was very __ADJECTIVE__. \\n __NOUN__ loved to __VERB__. \\n One day, __NOUN__ went to the __PLACE__ to __VERB__. \\n __NOUN__ saw a __FOOD__. \\n __NOUN__ was very __ADJECTIVE__. \\n __NOUN__ ate the __FOOD__. \\n __NOUN__ was very happy.\")"
   ]
  },
  {
   "cell_type": "markdown",
   "id": "c0528989",
   "metadata": {},
   "source": [
    "# Advanced Review Exercise #2\n",
    "\n",
    "Create a program where the user can play a game of rock, paper, scissors against a computer. Set a play choice (rock, paper, or scissors) for the computer player and during the program, request for the user to input their play choice.\n",
    "\n",
    "The rules in Rock, Paper, Scissors are:\n",
    "\n",
    "Rock beats scissors\n",
    "Scissors beats paper\n",
    "Paper beats rock\n",
    "If the user wins, then display \"You win!\" If they lose against the computer, then display \"You lose.\" If the computer and the user have the same play choice, display \"It's a draw.\"\n",
    "\n",
    "<b>BONUS</b>: Randomize the play choice for the computer (hint: Python has a library called random). Also ask the user if they would like to play again. If they do, start the game again but if not, thank the user for playing the game."
   ]
  },
  {
   "cell_type": "code",
   "execution_count": 9,
   "id": "b9be7052",
   "metadata": {
    "scrolled": true
   },
   "outputs": [
    {
     "name": "stdout",
     "output_type": "stream",
     "text": [
      "What is your move? (rock/paper/scissors): rock\n",
      "Rock smashes scissors! You win!\n"
     ]
    }
   ],
   "source": [
    "import random\n",
    "\n",
    "# Define the possible moves\n",
    "moves = [\"rock\", \"paper\", \"scissors\"]\n",
    "\n",
    "# Get the player's move\n",
    "player_move = input(\"What is your move? (rock/paper/scissors): \")\n",
    "\n",
    "# Get the computer's move\n",
    "computer_move = random.choice(moves)\n",
    "\n",
    "# Print the results\n",
    "if player_move == computer_move:\n",
    "    print(\"It's a tie!\")\n",
    "elif player_move == \"rock\":\n",
    "    if computer_move == \"scissors\":\n",
    "        print(\"Rock smashes scissors! You win!\")\n",
    "    else:\n",
    "        print(\"Paper covers rock! You lose.\")\n",
    "elif player_move == \"paper\":\n",
    "    if computer_move == \"rock\":\n",
    "        print(\"Paper covers rock! You win!\")\n",
    "    else:\n",
    "        print(\"Scissors cuts paper! You lose.\")\n",
    "elif player_move == \"scissors\":\n",
    "    if computer_move == \"rock\":\n",
    "        print(\"Rock smashes scissors! You lose.\")\n",
    "    else:\n",
    "        print(\"Paper covers scissors! You win!\")\n",
    "\n"
   ]
  },
  {
   "cell_type": "markdown",
   "id": "2ac716f5",
   "metadata": {},
   "source": [
    "# Advanced Review #3\n",
    "\n",
    "Create a program similar to the gameshow \"Who Wants to Be a Millionaire!\". Start by asking the user for their name, greeting them, and using their specific name throughout the program. \n",
    "\n",
    "Create a trivia program where a user is presented with a series of questions and asked to enter a response; if the response if correct, the user gains 100 points; if the response is incorrect, the user gets an \"X\" and does not gain any additional points. If the user gets 3 X's, they lose! Ask the user at least 15 questions. At the end of the game, calculate the users total score and present the answer to the user. \n",
    "\n",
    "Use the following source for trivia questions: https://www.opinionstage.com/blog/trivia-questions/"
   ]
  },
  {
   "cell_type": "code",
   "execution_count": 1,
   "id": "325ba382",
   "metadata": {},
   "outputs": [],
   "source": [
    "## trivia questions\n",
    "\n",
    "q1= \"What’s the shortcut for the “copy” function on most computers?\"\n",
    "q2= \"What is meteorology the study of?\"\n",
    "q3= \"Which natural disaster is measured with a Richter scale?\"\n",
    "q4= \"What was Superman’s birth name?\"\n",
    "q5= \"What was the name of the actor who played Jack Dawson in Titanic?\"\n",
    "q6= \"What is the name of the song that Queen Elsa sings as she builds her ice castle in the movie Frozen?\"\n",
    "q7= \"Which cartoon character lives in a pineapple under the sea?\"\n",
    "q8= \"When Michael Jordan played for the Chicago Bulls, how many NBA Championships did he win?\"\n",
    "q9= \"During which time of the year is the Nutchracker primarily performed?\"\n",
    "q10= \"In which US city is Broadway located?\"\n",
    "q11= \"What’s the primary ingredient in hummus?\"\n",
    "q12= \"Which element is said to keep bones strong?\"\n",
    "q13= \"How many Lord of the Rings films are there?\"\n",
    "q14= \"Aquaman is from which city under the sea?\"\n",
    "q15= \"Google Chrome, Safari, Firefox, and Explorer are different types of what?\"\n",
    "\n",
    "## trivia questions answers\n",
    "\n",
    "a1 = \"CTRL C\"\n",
    "a2 = \"THE WEATHER\"\n",
    "a3 = \"EARTHQUAKES\"\n",
    "a4 = \"KAL-EL\"\n",
    "a5 = \"LEONARDO DICAPRIO\"\n",
    "a6 = \"LET IT GO\"\n",
    "a7 = \"SPONGEBOB SQUAREPANTS\"\n",
    "a8 = \"SIX\"\n",
    "a9 = \"CHRISTMAS SEASON\"\n",
    "a10 = \"NEW YORK CITY\"\n",
    "a11 = \"CHICKPEAS\"\n",
    "a12 = \"CALCIUM\"\n",
    "a13 = \"THREE\"\n",
    "a14 = \"ATLANTIS\"\n",
    "a15 = \"WEB BROWSERS\""
   ]
  },
  {
   "cell_type": "code",
   "execution_count": 2,
   "id": "249a7c35",
   "metadata": {},
   "outputs": [
    {
     "name": "stdout",
     "output_type": "stream",
     "text": [
      "Please tell me your name: AJ\n",
      "\n",
      "Hello, AJ! Are you ready to play a trivia game?! Three strikes and you're out!\n",
      "\n",
      "What’s the shortcut for the “copy” function on most computers?control + c\n",
      "\n",
      "Oh no, AJ. WRONG!\n",
      "\n",
      "What is meteorology the study of?stars?\n",
      "\n",
      "Oh no, AJ. WRONG!\n",
      "\n",
      "Which natural disaster is measured with a Richter scale?idk\n",
      "\n",
      "3 strikes and you're OUT! Better luck next time. \n",
      "\n",
      "\n",
      "Thank you for playing! You earned: 0 points!\n",
      "\n"
     ]
    }
   ],
   "source": [
    "name = input(\"Please tell me your name: \") \n",
    "strikes = []\n",
    "points = 0\n",
    "\n",
    "print(f\"\\nHello, {name}! Are you ready to play a trivia game?! Three strikes and you're out!\\n\")\n",
    "\n",
    "while len(strikes) < 3:\n",
    "    \n",
    "    _1 = input(q1)\n",
    "    if _1.upper() != a1:\n",
    "        strikes.append(\"X\")\n",
    "        if len(strikes) == 3:\n",
    "            print(\"\\n3 strikes and you're OUT! Better luck next time. \\n\")\n",
    "            break\n",
    "        else:\n",
    "            print(f\"\\nOh no, {name}. WRONG!\\n\")\n",
    "    else:\n",
    "        print(f\"\\nGood Job, {name}! That's correct!\\n\")\n",
    "        points += 100\n",
    "        \n",
    "    _2 = input(q2)\n",
    "    if _2.upper() != a2:\n",
    "        strikes.append(\"X\")\n",
    "        if len(strikes) == 3:\n",
    "            print(\"\\n3 strikes and you're OUT! Better luck next time. \\n\")\n",
    "            break\n",
    "        else:\n",
    "            print(f\"\\nOh no, {name}. WRONG!\\n\")\n",
    "    else:\n",
    "        print(f\"\\nGood Job, {name}! That's correct!\\n\")\n",
    "        points += 100\n",
    "        \n",
    "    _3 = input(q3)\n",
    "    if _3.upper() != a3:\n",
    "        strikes.append(\"X\")\n",
    "        if len(strikes) == 3:\n",
    "            print(\"\\n3 strikes and you're OUT! Better luck next time. \\n\")\n",
    "            break\n",
    "        else:\n",
    "            print(f\"\\nOh no, {name}. WRONG!\\n\")\n",
    "    else:\n",
    "        print(f\"\\nGood Job, {name}! That's correct!\\n\")\n",
    "        points += 100\n",
    "        \n",
    "    _4 = input(q4)\n",
    "    if _4.upper() != a4:\n",
    "        strikes.append(\"X\")\n",
    "        if len(strikes) == 3:\n",
    "            print(\"\\n3 strikes and you're OUT! Better luck next time. \\n\")\n",
    "            break\n",
    "        else:\n",
    "            print(f\"\\nOh no, {name}. WRONG!\\n\")\n",
    "    else:\n",
    "        print(f\"\\nGood Job, {name}! That's correct!\\n\")\n",
    "        points += 100\n",
    "        \n",
    "    _5 = input(q5)\n",
    "    if _5.upper() != a5:\n",
    "        strikes.append(\"X\")\n",
    "        if len(strikes) == 3:\n",
    "            print(\"\\n3 strikes and you're OUT! Better luck next time. \\n\")\n",
    "            break\n",
    "        else:\n",
    "            print(f\"\\nOh no, {name}. WRONG!\\n\")\n",
    "    else:\n",
    "        print(f\"\\nGood Job, {name}! That's correct!\\n\")\n",
    "        points += 100\n",
    "        \n",
    "print(f\"\\nThank you for playing! You earned: {points} points!\\n\")"
   ]
  },
  {
   "cell_type": "code",
   "execution_count": null,
   "id": "7d76563b",
   "metadata": {},
   "outputs": [],
   "source": []
  }
 ],
 "metadata": {
  "kernelspec": {
   "display_name": "Python 3 (ipykernel)",
   "language": "python",
   "name": "python3"
  },
  "language_info": {
   "codemirror_mode": {
    "name": "ipython",
    "version": 3
   },
   "file_extension": ".py",
   "mimetype": "text/x-python",
   "name": "python",
   "nbconvert_exporter": "python",
   "pygments_lexer": "ipython3",
   "version": "3.9.13"
  }
 },
 "nbformat": 4,
 "nbformat_minor": 5
}
